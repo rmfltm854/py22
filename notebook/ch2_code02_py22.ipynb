{
  "nbformat": 4,
  "nbformat_minor": 0,
  "metadata": {
    "colab": {
      "name": "ch2_code02_py22.ipynb",
      "provenance": [],
      "collapsed_sections": [],
      "include_colab_link": true
    },
    "kernelspec": {
      "display_name": "Python 3",
      "language": "python",
      "name": "python3"
    },
    "language_info": {
      "codemirror_mode": {
        "name": "ipython",
        "version": 3
      },
      "file_extension": ".py",
      "mimetype": "text/x-python",
      "name": "python",
      "nbconvert_exporter": "python",
      "pygments_lexer": "ipython3",
      "version": "3.7.5"
    }
  },
  "cells": [
    {
      "cell_type": "markdown",
      "metadata": {
        "id": "view-in-github",
        "colab_type": "text"
      },
      "source": [
        "<a href=\"https://colab.research.google.com/github/rmfltm854/py22/blob/master/notebook/ch2_code02_py22.ipynb\" target=\"_parent\"><img src=\"https://colab.research.google.com/assets/colab-badge.svg\" alt=\"Open In Colab\"/></a>"
      ]
    },
    {
      "cell_type": "markdown",
      "metadata": {
        "colab_type": "text",
        "id": "H4jNE-BMAK3f"
      },
      "source": [
        "# ch2_code02.ipynb\n",
        "## py22  \n",
        "- List\n",
        "- Tuple"
      ]
    },
    {
      "cell_type": "code",
      "metadata": {
        "colab_type": "code",
        "id": "hTRRKc56En6p",
        "outputId": "b1e66cc3-7cae-4470-bba1-802a5f381bac",
        "colab": {
          "base_uri": "https://localhost:8080/",
          "height": 89
        }
      },
      "source": [
        "# ch2_04_list.py\n",
        "\n",
        "print(\"리스트: list 란?\")\n",
        "odd = [1, 3, 5, 7, 9] #(),{},[]\n",
        "odd, type(odd)\n",
        "# # 여러 가지 리스트\n",
        "a = []   # list 초기화, null list\n",
        "a\n",
        "b = [1, 2, 3]\n",
        "b\n",
        "c = ['Life', 'is', 'too', 'short']\n",
        "c\n",
        "d = [1, 2, 'Life', 'is'] # inhomogeneous elements\n",
        "d\n",
        "e = [1, 2, ['Life', 'is']] #nested list\n",
        "print(\"e = \", e), print(\"d = \", d)"
      ],
      "execution_count": 0,
      "outputs": [
        {
          "output_type": "stream",
          "text": [
            "리스트: list 란?\n",
            "e =  [1, 2, ['Life', 'is']]\n",
            "d =  [1, 2, 'Life', 'is']\n"
          ],
          "name": "stdout"
        },
        {
          "output_type": "execute_result",
          "data": {
            "text/plain": [
              "(None, None)"
            ]
          },
          "metadata": {
            "tags": []
          },
          "execution_count": 12
        }
      ]
    },
    {
      "cell_type": "code",
      "metadata": {
        "id": "O4KHrARZaxyW",
        "colab_type": "code",
        "outputId": "eca5fe06-c756-4d22-d2b8-cfbb2fed2418",
        "colab": {
          "base_uri": "https://localhost:8080/",
          "height": 35
        }
      },
      "source": [
        "# list 초기화\n",
        "# a = []\n",
        "a = list()\n",
        "a   # []"
      ],
      "execution_count": 0,
      "outputs": [
        {
          "output_type": "execute_result",
          "data": {
            "text/plain": [
              "[]"
            ]
          },
          "metadata": {
            "tags": []
          },
          "execution_count": 14
        }
      ]
    },
    {
      "cell_type": "code",
      "metadata": {
        "id": "jiOxY-4odpWZ",
        "colab_type": "code",
        "outputId": "68797da8-6f88-4905-fa9a-d9b446f6fb54",
        "colab": {
          "base_uri": "https://localhost:8080/",
          "height": 35
        }
      },
      "source": [
        "b = list((1,2,3))\n",
        "b"
      ],
      "execution_count": 0,
      "outputs": [
        {
          "output_type": "execute_result",
          "data": {
            "text/plain": [
              "[1, 2, 3]"
            ]
          },
          "metadata": {
            "tags": []
          },
          "execution_count": 16
        }
      ]
    },
    {
      "cell_type": "markdown",
      "metadata": {
        "id": "QN2EAEWZd-BH",
        "colab_type": "text"
      },
      "source": [
        "### 리스트의 인덱싱과 슬라이싱"
      ]
    },
    {
      "cell_type": "code",
      "metadata": {
        "id": "opxq0QNCdQI2",
        "colab_type": "code",
        "outputId": "178fcbb6-1a10-4f5a-831e-69f66e58a15e",
        "colab": {
          "base_uri": "https://localhost:8080/",
          "height": 53
        }
      },
      "source": [
        "print(\"리스트: 리스트의 인덱싱과 슬라이싱\")\n",
        "a = [1, 2, 3]\n",
        "a\n",
        "a[0]\n",
        "# a[3] #list index out of range\n",
        "a[0]+a[2]\n",
        "a[-1]"
      ],
      "execution_count": 0,
      "outputs": [
        {
          "output_type": "stream",
          "text": [
            "리스트: 리스트의 인덱싱과 슬라이싱\n"
          ],
          "name": "stdout"
        },
        {
          "output_type": "execute_result",
          "data": {
            "text/plain": [
              "3"
            ]
          },
          "metadata": {
            "tags": []
          },
          "execution_count": 22
        }
      ]
    },
    {
      "cell_type": "code",
      "metadata": {
        "id": "5FaLDdujeHjt",
        "colab_type": "code",
        "outputId": "67dea829-4899-4cc7-9638-0d7be4813dda",
        "colab": {
          "base_uri": "https://localhost:8080/",
          "height": 35
        }
      },
      "source": [
        "#\n",
        "a = [1, 2, 3, ['a', 'b', 'c']] # 2차원 구조 \n",
        "a[0]\n",
        "a[3]\n",
        "a[-1]\n",
        "# chaek this: a[0] + a[-1] -> \n",
        "# a[0] + a[-1] # unsupported operand type(s) for +: 'int' and 'list'\n",
        "# Indexing inner list\n",
        "# a[-1][0] # 2차원 데이터 구조\n",
        "# 도전!\n",
        "a[-1][-1] #c"
      ],
      "execution_count": 0,
      "outputs": [
        {
          "output_type": "execute_result",
          "data": {
            "text/plain": [
              "'c'"
            ]
          },
          "metadata": {
            "tags": []
          },
          "execution_count": 27
        }
      ]
    },
    {
      "cell_type": "markdown",
      "metadata": {
        "id": "IsHrVXr8f0wl",
        "colab_type": "text"
      },
      "source": [
        "#### triple list(삼중리스트)"
      ]
    },
    {
      "cell_type": "code",
      "metadata": {
        "id": "g0eVaaILfMTU",
        "colab_type": "code",
        "outputId": "93bf42ac-25d2-4348-d926-ee647e617a22",
        "colab": {
          "base_uri": "https://localhost:8080/",
          "height": 35
        }
      },
      "source": [
        "# Indexing of triple list\n",
        "# 삼중 리스트에서 인덱싱하기\n",
        "a = [1, 2, ['a', 'b', ['Life', 'is', 'good']]] #3차원 구조\n",
        "a[2] # a[-1]\n",
        "a[2][-1]\n",
        "a[2][-1][-1]   # 'Life' > 'good'"
      ],
      "execution_count": 0,
      "outputs": [
        {
          "output_type": "execute_result",
          "data": {
            "text/plain": [
              "'good'"
            ]
          },
          "metadata": {
            "tags": []
          },
          "execution_count": 33
        }
      ]
    },
    {
      "cell_type": "markdown",
      "metadata": {
        "id": "juuNXMgPg_AL",
        "colab_type": "text"
      },
      "source": [
        "### 리스트의 슬라이싱"
      ]
    },
    {
      "cell_type": "code",
      "metadata": {
        "id": "RzR4EavxgDV4",
        "colab_type": "code",
        "outputId": "551030e3-2a5d-4ac5-9316-43c90f2558a2",
        "colab": {
          "base_uri": "https://localhost:8080/",
          "height": 35
        }
      },
      "source": [
        "#\n",
        "# 리스트의 슬라이싱\n",
        "a1 = [1, 2, 3, 4, 5]\n",
        "a1[0:2] #인덱스 0부터 2이전까지 (1,2)\n",
        "a2 = \"12345\"\n",
        "a1[0:2], a2[0:2]"
      ],
      "execution_count": 0,
      "outputs": [
        {
          "output_type": "execute_result",
          "data": {
            "text/plain": [
              "([1, 2], '12')"
            ]
          },
          "metadata": {
            "tags": []
          },
          "execution_count": 35
        }
      ]
    },
    {
      "cell_type": "code",
      "metadata": {
        "id": "LYRe2yJLhF92",
        "colab_type": "code",
        "outputId": "f7131716-7e75-4d99-aa17-a0efb5513e18",
        "colab": {
          "base_uri": "https://localhost:8080/",
          "height": 35
        }
      },
      "source": [
        "#\n",
        "a = [1, 2, 3, 4, 5]\n",
        "a[0:2]\n",
        "a[2:]\n",
        "a[0:4:2]  # a[start:end:step]"
      ],
      "execution_count": 0,
      "outputs": [
        {
          "output_type": "execute_result",
          "data": {
            "text/plain": [
              "[1, 3]"
            ]
          },
          "metadata": {
            "tags": []
          },
          "execution_count": 36
        }
      ]
    },
    {
      "cell_type": "markdown",
      "metadata": {
        "id": "ou44xYN2kkQx",
        "colab_type": "text"
      },
      "source": [
        "### 중첩된 리스트에서 슬라이싱하기"
      ]
    },
    {
      "cell_type": "code",
      "metadata": {
        "id": "qO2anepmhf9u",
        "colab_type": "code",
        "outputId": "acdd2390-0fa5-4673-ea91-1860c331d9dc",
        "colab": {
          "base_uri": "https://localhost:8080/",
          "height": 35
        }
      },
      "source": [
        "#\n",
        "# 중첩된 리스트에서 슬라이싱하기\n",
        "#\n",
        "a = [1, 2, 3, ['a', 'b', 'c'], 4, 5]\n",
        "a[2:5]\n",
        "a[3][:2]"
      ],
      "execution_count": 0,
      "outputs": [
        {
          "output_type": "execute_result",
          "data": {
            "text/plain": [
              "['a', 'b']"
            ]
          },
          "metadata": {
            "tags": []
          },
          "execution_count": 55
        }
      ]
    },
    {
      "cell_type": "code",
      "metadata": {
        "id": "lOiQbnXcknkD",
        "colab_type": "code",
        "outputId": "79081f94-19ec-4417-e541-7767a09a3b26",
        "colab": {
          "base_uri": "https://localhost:8080/",
          "height": 35
        }
      },
      "source": [
        "#\n",
        "# 리스트: 인덱싱, 슬라이싱 연습\n",
        "#\n",
        "x = [1, 2, 3, 4, 5, 6, 7, 8, 9]\n",
        "x[0:3]\n",
        "x[3:]\n",
        "x[:6]\n",
        "x[0:6:2]  # x[:6:2]\n",
        "x[-1]\n",
        "x[-3]\n",
        "x[:-3]\n",
        "x[::-1]\n",
        "x[-3::-1]"
      ],
      "execution_count": 0,
      "outputs": [
        {
          "output_type": "execute_result",
          "data": {
            "text/plain": [
              "[7, 6, 5, 4, 3, 2, 1]"
            ]
          },
          "metadata": {
            "tags": []
          },
          "execution_count": 70
        }
      ]
    },
    {
      "cell_type": "markdown",
      "metadata": {
        "id": "uiLoREPvmDv0",
        "colab_type": "text"
      },
      "source": [
        "### 리스트 연산하기"
      ]
    },
    {
      "cell_type": "code",
      "metadata": {
        "id": "IjLxPZXFlNJ8",
        "colab_type": "code",
        "outputId": "717bb074-472a-437a-bc16-21af9154c5f5",
        "colab": {
          "base_uri": "https://localhost:8080/",
          "height": 53
        }
      },
      "source": [
        "#\n",
        "###################################\n",
        "print(\"리스트: 리스트 연산하기\")\n",
        "###################################\n",
        "#\n",
        "# 리스트 더하기(+)\n",
        "#\n",
        "a = [1, 2, 3]\n",
        "b = [4, 5, 6]\n",
        "a + b"
      ],
      "execution_count": 0,
      "outputs": [
        {
          "output_type": "stream",
          "text": [
            "리스트: 리스트 연산하기\n"
          ],
          "name": "stdout"
        },
        {
          "output_type": "execute_result",
          "data": {
            "text/plain": [
              "[1, 2, 3, 4, 5, 6]"
            ]
          },
          "metadata": {
            "tags": []
          },
          "execution_count": 71
        }
      ]
    },
    {
      "cell_type": "code",
      "metadata": {
        "id": "umVbETZOmHuy",
        "colab_type": "code",
        "outputId": "753a0f1b-b1b9-4e81-8fd0-0c2ecff02c1d",
        "colab": {
          "base_uri": "https://localhost:8080/",
          "height": 35
        }
      },
      "source": [
        "#\n",
        "# 리스트 반복하기(*)\n",
        "#\n",
        "a * 3"
      ],
      "execution_count": 0,
      "outputs": [
        {
          "output_type": "execute_result",
          "data": {
            "text/plain": [
              "[1, 2, 3, 1, 2, 3, 1, 2, 3]"
            ]
          },
          "metadata": {
            "tags": []
          },
          "execution_count": 72
        }
      ]
    },
    {
      "cell_type": "code",
      "metadata": {
        "id": "1t8LIllYhlVt",
        "colab_type": "code",
        "outputId": "4a239ece-506c-4e99-dcbb-b69d5e7cb71d",
        "colab": {
          "base_uri": "https://localhost:8080/",
          "height": 35
        }
      },
      "source": [
        "#\n",
        "# 리스트 길이구하기\n",
        "#\n",
        "len(a), len(a*3)"
      ],
      "execution_count": 0,
      "outputs": [
        {
          "output_type": "execute_result",
          "data": {
            "text/plain": [
              "(5, 15)"
            ]
          },
          "metadata": {
            "tags": []
          },
          "execution_count": 37
        }
      ]
    },
    {
      "cell_type": "code",
      "metadata": {
        "id": "E-HMJSPehwQH",
        "colab_type": "code",
        "outputId": "f2a60162-a8b1-4475-f37d-e8ce50f1591c",
        "colab": {
          "base_uri": "https://localhost:8080/",
          "height": 35
        }
      },
      "source": [
        "#\n",
        "# 초보자가 범하기 쉬운 리스트 연산 오류\n",
        "#\n",
        "a = [1, 2, 3]\n",
        "# a[2] + \"hi\" # TypeError: unsupported operand type(s) for +: 'int' and 'str'\n",
        "str(a[2]) + \"hi\""
      ],
      "execution_count": 0,
      "outputs": [
        {
          "output_type": "execute_result",
          "data": {
            "text/plain": [
              "'3hi'"
            ]
          },
          "metadata": {
            "tags": []
          },
          "execution_count": 39
        }
      ]
    },
    {
      "cell_type": "markdown",
      "metadata": {
        "id": "UdlpJ85fiHLq",
        "colab_type": "text"
      },
      "source": [
        "### 리스트의 수정과 삭제"
      ]
    },
    {
      "cell_type": "code",
      "metadata": {
        "id": "rI7IEUqph6xK",
        "colab_type": "code",
        "outputId": "aa33fa8e-79a8-49ff-d66f-7ef849786340",
        "colab": {
          "base_uri": "https://localhost:8080/",
          "height": 35
        }
      },
      "source": [
        "#\n",
        "# 리스트의 수정과 삭제\n",
        "#\n",
        "a = [1, 2, 3]\n",
        "a[2] = 4  # list is mutable!!!(변할수있다.)\n",
        "a"
      ],
      "execution_count": 0,
      "outputs": [
        {
          "output_type": "execute_result",
          "data": {
            "text/plain": [
              "[1, 2, 4]"
            ]
          },
          "metadata": {
            "tags": []
          },
          "execution_count": 40
        }
      ]
    },
    {
      "cell_type": "code",
      "metadata": {
        "id": "ecY17qf3iMic",
        "colab_type": "code",
        "outputId": "4571b8c2-fb66-4cc5-cf91-dba2bba0f8fe",
        "colab": {
          "base_uri": "https://localhost:8080/",
          "height": 35
        }
      },
      "source": [
        "#\n",
        "# del 함수 사용해 리스트 요소(항목) 삭제하기\n",
        "# (인덱싱/슬라이싱)\n",
        "a = [1, 2, 3]\n",
        "del a[1] #인덱싱을 이용한 삭제\n",
        "a\n",
        "a = [1, 2, 3, 4, 5]\n",
        "del a[2:] #슬라이싱을 이용한 삭제\n",
        "a"
      ],
      "execution_count": 0,
      "outputs": [
        {
          "output_type": "execute_result",
          "data": {
            "text/plain": [
              "[1, 2]"
            ]
          },
          "metadata": {
            "tags": []
          },
          "execution_count": 42
        }
      ]
    },
    {
      "cell_type": "markdown",
      "metadata": {
        "id": "lIDUUbB4mmUh",
        "colab_type": "text"
      },
      "source": [
        "### 리스트 관련 함수들"
      ]
    },
    {
      "cell_type": "code",
      "metadata": {
        "colab_type": "code",
        "id": "dRkzQjiyEnq7",
        "outputId": "a8b2ef9a-70c8-4b6e-dab1-df3ff2c2baad",
        "colab": {
          "base_uri": "https://localhost:8080/",
          "height": 53
        }
      },
      "source": [
        "# ch2_05_list_functions.py\n",
        "\n",
        "print(\"리스트: 내부 함수 이용\")\n",
        "#\n",
        "# 리스트에 요소 추가(append)\n",
        "#\n",
        "a = [1, 2, 3]\n",
        "a.append(4)\n",
        "a\n",
        "# 리스트 안에는 어떤 자료형도 추가할 수 있다.\n",
        "# 리스트에 다시 리스트를 추가한 결과\n",
        "a.append([5, 6]) #정말중요\n",
        "a"
      ],
      "execution_count": 0,
      "outputs": [
        {
          "output_type": "stream",
          "text": [
            "리스트: 내부 함수 이용\n"
          ],
          "name": "stdout"
        },
        {
          "output_type": "execute_result",
          "data": {
            "text/plain": [
              "[1, 2, 3, 4, [5, 6]]"
            ]
          },
          "metadata": {
            "tags": []
          },
          "execution_count": 43
        }
      ]
    },
    {
      "cell_type": "code",
      "metadata": {
        "id": "JlBObaZ0ijb9",
        "colab_type": "code",
        "outputId": "ce218857-69a6-40f2-83fa-808c7614ffa1",
        "colab": {
          "base_uri": "https://localhost:8080/",
          "height": 35
        }
      },
      "source": [
        "#\n",
        "# 리스트 정렬(sort)\n",
        "#\n",
        "a = [1, 4, 3, 2]\n",
        "a.sort()\n",
        "a\n",
        "\n",
        "s = [\"a\", \"c\", \"b\"]\n",
        "s.sort()\n",
        "s"
      ],
      "execution_count": 0,
      "outputs": [
        {
          "output_type": "execute_result",
          "data": {
            "text/plain": [
              "['a', 'b', 'c']"
            ]
          },
          "metadata": {
            "tags": []
          },
          "execution_count": 44
        }
      ]
    },
    {
      "cell_type": "code",
      "metadata": {
        "id": "heC6BpYvirkd",
        "colab_type": "code",
        "outputId": "ff5a591b-2aff-4759-a2eb-a8a58085a9d1",
        "colab": {
          "base_uri": "https://localhost:8080/",
          "height": 35
        }
      },
      "source": [
        "#\n",
        "# 리스트 뒤집기(reverse)\n",
        "#\n",
        "a = [\"a\", \"c\", \"b\"]\n",
        "a.reverse()\n",
        "a, a[::-1]"
      ],
      "execution_count": 0,
      "outputs": [
        {
          "output_type": "execute_result",
          "data": {
            "text/plain": [
              "(['b', 'c', 'a'], ['a', 'c', 'b'])"
            ]
          },
          "metadata": {
            "tags": []
          },
          "execution_count": 45
        }
      ]
    },
    {
      "cell_type": "code",
      "metadata": {
        "id": "FLSHQkfCivqx",
        "colab_type": "code",
        "outputId": "039818da-8d18-415d-ea64-629b072e9d7f",
        "colab": {
          "base_uri": "https://localhost:8080/",
          "height": 35
        }
      },
      "source": [
        "#\n",
        "# 위치 반환(index)\n",
        "#    0 1 2\n",
        "a = [1, 2, 3]\n",
        "a.index(3) # 3이라는 값의 인덱스는 2이다.\n",
        "a.index(1)\n",
        "# a.index(0) # 0 is not in list\n",
        "\n",
        "s = [\"a\", \"c\", \"b\"]\n",
        "# s.index(3)  # ValueError: Error 3 is not in list\n",
        "# s.index(a)  # ValueError: [1, 2, 3] is not in list index(변수a:리스트)\n",
        "s.index(\"a\"), s.index(\"b\")"
      ],
      "execution_count": 0,
      "outputs": [
        {
          "output_type": "execute_result",
          "data": {
            "text/plain": [
              "(0, 2)"
            ]
          },
          "metadata": {
            "tags": []
          },
          "execution_count": 48
        }
      ]
    },
    {
      "cell_type": "code",
      "metadata": {
        "id": "rClCds0Ei5Hv",
        "colab_type": "code",
        "outputId": "5727b0a1-91c5-46a8-ed5e-ddc4eb31e072",
        "colab": {
          "base_uri": "https://localhost:8080/",
          "height": 35
        }
      },
      "source": [
        "# \n",
        "# 리스트에 요소 삽입(insert)\n",
        "#\n",
        "a = [1, 2, 3]\n",
        "a.insert(0, 4) #0번 인덱스에 값 4를 넣으시오.\n",
        "a\n",
        "a.insert(3, 5)\n",
        "a"
      ],
      "execution_count": 0,
      "outputs": [
        {
          "output_type": "execute_result",
          "data": {
            "text/plain": [
              "[4, 1, 2, 5, 3]"
            ]
          },
          "metadata": {
            "tags": []
          },
          "execution_count": 75
        }
      ]
    },
    {
      "cell_type": "code",
      "metadata": {
        "id": "nm5_kyYFjeVp",
        "colab_type": "code",
        "colab": {}
      },
      "source": [
        "#\n",
        "# 리스트 요소 제거(remove)\n",
        "#\n",
        "a = [1, 2, 3, 1, 2, 3] # 중복 값을 허용하는 데이터 구조:list\n",
        "a.remove(3)\n",
        "a\n",
        "# 3을 리스트 a에서 완전히 제거\n",
        "a.remove(3)\n",
        "# a\n",
        "# a.remove(3)  # ValueError"
      ],
      "execution_count": 0,
      "outputs": []
    },
    {
      "cell_type": "code",
      "metadata": {
        "id": "_lY_V8vsn6AW",
        "colab_type": "code",
        "outputId": "2411f122-d2db-4f98-b9d2-598297e4b6d7",
        "colab": {
          "base_uri": "https://localhost:8080/",
          "height": 35
        }
      },
      "source": [
        "a"
      ],
      "execution_count": 0,
      "outputs": [
        {
          "output_type": "execute_result",
          "data": {
            "text/plain": [
              "[1, 2, 1, 2]"
            ]
          },
          "metadata": {
            "tags": []
          },
          "execution_count": 79
        }
      ]
    },
    {
      "cell_type": "code",
      "metadata": {
        "id": "qI6QBik_n_6H",
        "colab_type": "code",
        "outputId": "638ad5d8-b0d5-4841-9a90-86e3933fa0ce",
        "colab": {
          "base_uri": "https://localhost:8080/",
          "height": 172
        }
      },
      "source": [
        "a.remove(3) #ValueError: list.remove(x): x not in list"
      ],
      "execution_count": 0,
      "outputs": [
        {
          "output_type": "error",
          "ename": "ValueError",
          "evalue": "ignored",
          "traceback": [
            "\u001b[0;31m---------------------------------------------------------------------------\u001b[0m",
            "\u001b[0;31mValueError\u001b[0m                                Traceback (most recent call last)",
            "\u001b[0;32m<ipython-input-80-fe741f3ae678>\u001b[0m in \u001b[0;36m<module>\u001b[0;34m()\u001b[0m\n\u001b[0;32m----> 1\u001b[0;31m \u001b[0ma\u001b[0m\u001b[0;34m.\u001b[0m\u001b[0mremove\u001b[0m\u001b[0;34m(\u001b[0m\u001b[0;36m3\u001b[0m\u001b[0;34m)\u001b[0m\u001b[0;34m\u001b[0m\u001b[0;34m\u001b[0m\u001b[0m\n\u001b[0m",
            "\u001b[0;31mValueError\u001b[0m: list.remove(x): x not in list"
          ]
        }
      ]
    },
    {
      "cell_type": "code",
      "metadata": {
        "id": "qvb8UQ5LoMYi",
        "colab_type": "code",
        "outputId": "027ecc5d-3248-48ad-d89f-83147ecf0737",
        "colab": {
          "base_uri": "https://localhost:8080/",
          "height": 35
        }
      },
      "source": [
        "#\n",
        "# 리스트 요소 끄집어내기(pop)\n",
        "#\n",
        "# \n",
        "# 리스트의 수정과 삭제\n",
        "#\n",
        "a = [1, 2, 3]\n",
        "# pop()은 리스트의 맨 마지막 요소를 돌려주고 그 요소는 삭제한다.\n",
        "a.pop()\n",
        "a"
      ],
      "execution_count": 0,
      "outputs": [
        {
          "output_type": "execute_result",
          "data": {
            "text/plain": [
              "[1, 2]"
            ]
          },
          "metadata": {
            "tags": []
          },
          "execution_count": 82
        }
      ]
    },
    {
      "cell_type": "code",
      "metadata": {
        "id": "I10mQPh5oeyZ",
        "colab_type": "code",
        "outputId": "7553ff8e-3ca1-4cbe-b31f-11a5a7c678c2",
        "colab": {
          "base_uri": "https://localhost:8080/",
          "height": 208
        }
      },
      "source": [
        "#\n",
        "a = [1, 2, 3]\n",
        "# pop(x)는 리스트의 index가 x인 요소를 돌려주고 그 요소는 삭제한다.\n",
        "r = a.pop(1)\n",
        "r, a\n",
        "# a.pop(2)  # IndexError: pop index out of range"
      ],
      "execution_count": 0,
      "outputs": [
        {
          "output_type": "error",
          "ename": "IndexError",
          "evalue": "ignored",
          "traceback": [
            "\u001b[0;31m---------------------------------------------------------------------------\u001b[0m",
            "\u001b[0;31mIndexError\u001b[0m                                Traceback (most recent call last)",
            "\u001b[0;32m<ipython-input-86-356d4705d751>\u001b[0m in \u001b[0;36m<module>\u001b[0;34m()\u001b[0m\n\u001b[1;32m      3\u001b[0m \u001b[0mr\u001b[0m \u001b[0;34m=\u001b[0m \u001b[0ma\u001b[0m\u001b[0;34m.\u001b[0m\u001b[0mpop\u001b[0m\u001b[0;34m(\u001b[0m\u001b[0;36m1\u001b[0m\u001b[0;34m)\u001b[0m\u001b[0;34m\u001b[0m\u001b[0;34m\u001b[0m\u001b[0m\n\u001b[1;32m      4\u001b[0m \u001b[0mr\u001b[0m\u001b[0;34m,\u001b[0m \u001b[0ma\u001b[0m\u001b[0;34m\u001b[0m\u001b[0;34m\u001b[0m\u001b[0m\n\u001b[0;32m----> 5\u001b[0;31m \u001b[0ma\u001b[0m\u001b[0;34m.\u001b[0m\u001b[0mpop\u001b[0m\u001b[0;34m(\u001b[0m\u001b[0;36m2\u001b[0m\u001b[0;34m)\u001b[0m  \u001b[0;31m# IndexError\u001b[0m\u001b[0;34m\u001b[0m\u001b[0;34m\u001b[0m\u001b[0m\n\u001b[0m",
            "\u001b[0;31mIndexError\u001b[0m: pop index out of range"
          ]
        }
      ]
    },
    {
      "cell_type": "code",
      "metadata": {
        "id": "6tibk9TuotD_",
        "colab_type": "code",
        "outputId": "3672b098-c205-4874-990a-f0a12bebdd3c",
        "colab": {
          "base_uri": "https://localhost:8080/",
          "height": 35
        }
      },
      "source": [
        "#\n",
        "# 리스트에 포함된 요소 x의 개수 세기(count)\n",
        "#\n",
        "a = [1, 2, 3, 1]\n",
        "a.count(1)"
      ],
      "execution_count": 0,
      "outputs": [
        {
          "output_type": "execute_result",
          "data": {
            "text/plain": [
              "2"
            ]
          },
          "metadata": {
            "tags": []
          },
          "execution_count": 88
        }
      ]
    },
    {
      "cell_type": "code",
      "metadata": {
        "id": "-8mpf1i6pVWG",
        "colab_type": "code",
        "outputId": "a37bd527-28bf-4a84-827d-ac08de9f98ff",
        "colab": {
          "base_uri": "https://localhost:8080/",
          "height": 35
        }
      },
      "source": [
        "#\n",
        "# 리스트 확장(extend)\n",
        "#\n",
        "a = [1, 2, 3]\n",
        "a.extend([4, 5])\n",
        "a  # a.extend([4, 5])는 a += [4, 5]와 동일\n",
        "\n",
        "b = [6, 7]\n",
        "a.extend(b)\n",
        "a\n"
      ],
      "execution_count": 0,
      "outputs": [
        {
          "output_type": "execute_result",
          "data": {
            "text/plain": [
              "[1, 2, 3, 4, 5, 6, 7]"
            ]
          },
          "metadata": {
            "tags": []
          },
          "execution_count": 92
        }
      ]
    },
    {
      "cell_type": "markdown",
      "metadata": {
        "id": "dtstttaMp1uk",
        "colab_type": "text"
      },
      "source": [
        "## 튜플 (tuple)"
      ]
    },
    {
      "cell_type": "code",
      "metadata": {
        "id": "1fDmiQFYZn2u",
        "colab_type": "code",
        "outputId": "d72d35e4-f3e8-47b6-826c-c1b399033362",
        "colab": {
          "base_uri": "https://localhost:8080/",
          "height": 53
        }
      },
      "source": [
        "# ch2_06_tuple.py\n",
        "\n",
        "print(\"튜플: tuple 이란?\")\n",
        "# 리스트는 [ ]으로 둘러싸지만 튜플은 ( )으로 둘러싼다.\n",
        "# 리스트는 그 값의 생성, 삭제, 수정이 가능하지만 튜플은 그 값을 바꿀 수 없다.\n",
        "\n",
        "even = (2, 4, 6, 8)\n",
        "even"
      ],
      "execution_count": 0,
      "outputs": [
        {
          "output_type": "stream",
          "text": [
            "튜플: tuple 이란?\n"
          ],
          "name": "stdout"
        },
        {
          "output_type": "execute_result",
          "data": {
            "text/plain": [
              "(2, 4, 6, 8)"
            ]
          },
          "metadata": {
            "tags": []
          },
          "execution_count": 94
        }
      ]
    },
    {
      "cell_type": "code",
      "metadata": {
        "id": "WQiOCq0DqJi9",
        "colab_type": "code",
        "colab": {}
      },
      "source": [
        "# 여러 가지 튜플\n",
        "t1 = ()  # 튜플 초기화, t1 = tuple()\n",
        "t2 = (1,)\n",
        "t3 = (1, 2, 3)\n",
        "t4 = 1, 2, 3\n",
        "t5 = (\"a\", \"b\", (\"ab\", \"cd\"))\n",
        "# t2 = (1,)처럼 단지 1개의 요소만을 가질 때는 요소 뒤에\n",
        "# 콤마(,)를 반드시 붙여야 한다는 것과\n",
        "# t4 = 1, 2, 3처럼 괄호( )를 생략해도 무방하다."
      ],
      "execution_count": 0,
      "outputs": []
    },
    {
      "cell_type": "code",
      "metadata": {
        "id": "TrzVjkEEqvly",
        "colab_type": "code",
        "outputId": "3aaeeac2-3d4c-4bb8-e844-7fd6908bc97d",
        "colab": {
          "base_uri": "https://localhost:8080/",
          "height": 35
        }
      },
      "source": [
        "t2n = (1)  # t2 = (1, )\n",
        "t2, t2n"
      ],
      "execution_count": 0,
      "outputs": [
        {
          "output_type": "execute_result",
          "data": {
            "text/plain": [
              "((1,), 1)"
            ]
          },
          "metadata": {
            "tags": []
          },
          "execution_count": 99
        }
      ]
    },
    {
      "cell_type": "code",
      "metadata": {
        "id": "XYrs0dagrQoG",
        "colab_type": "code",
        "outputId": "40471e0c-8c43-45b7-c27e-9f33167d6193",
        "colab": {
          "base_uri": "https://localhost:8080/",
          "height": 35
        }
      },
      "source": [
        "type(t2), type(t2n)"
      ],
      "execution_count": 0,
      "outputs": [
        {
          "output_type": "execute_result",
          "data": {
            "text/plain": [
              "(tuple, int)"
            ]
          },
          "metadata": {
            "tags": []
          },
          "execution_count": 100
        }
      ]
    },
    {
      "cell_type": "markdown",
      "metadata": {
        "id": "YBjM2592rdLc",
        "colab_type": "text"
      },
      "source": [
        "### 튜플의 요소값을 지우거나 변경"
      ]
    },
    {
      "cell_type": "code",
      "metadata": {
        "id": "OZcMqpL-qTKa",
        "colab_type": "code",
        "colab": {
          "base_uri": "https://localhost:8080/",
          "height": 208
        },
        "outputId": "77c392f3-fac0-403a-c2a7-846af27a7a04"
      },
      "source": [
        "#####################################################\n",
        "#\n",
        "# 튜플의 요소값을 지우거나 변경하려고 하면 어떻게 될까?\n",
        "#\n",
        "# 1. 튜플 요솟값을 삭제하려 할 때\n",
        "t1 = (1, 2, \"a\", \"b\")\n",
        "t1\n",
        "# del t1[0]  # Error : 'tuple' object doesn't support item deletion\n",
        "#\n",
        "# 2. 튜플 요솟값을 변경하려 할 때\n",
        "#\n",
        "t1[0] = \"c\"  # TypeError: 'tuple' object doesn't support item assignment."
      ],
      "execution_count": 2,
      "outputs": [
        {
          "output_type": "error",
          "ename": "TypeError",
          "evalue": "ignored",
          "traceback": [
            "\u001b[0;31m---------------------------------------------------------------------------\u001b[0m",
            "\u001b[0;31mTypeError\u001b[0m                                 Traceback (most recent call last)",
            "\u001b[0;32m<ipython-input-2-df11ed07163f>\u001b[0m in \u001b[0;36m<module>\u001b[0;34m()\u001b[0m\n\u001b[1;32m      5\u001b[0m \u001b[0;31m# 2. 튜플 요솟값을 변경하려 할 때\u001b[0m\u001b[0;34m\u001b[0m\u001b[0;34m\u001b[0m\u001b[0;34m\u001b[0m\u001b[0m\n\u001b[1;32m      6\u001b[0m \u001b[0;31m#\u001b[0m\u001b[0;34m\u001b[0m\u001b[0;34m\u001b[0m\u001b[0;34m\u001b[0m\u001b[0m\n\u001b[0;32m----> 7\u001b[0;31m \u001b[0mt1\u001b[0m\u001b[0;34m[\u001b[0m\u001b[0;36m0\u001b[0m\u001b[0;34m]\u001b[0m \u001b[0;34m=\u001b[0m \u001b[0;34m\"c\"\u001b[0m  \u001b[0;31m# TypeError: 'tuple' object doesn't support item assignment.\u001b[0m\u001b[0;34m\u001b[0m\u001b[0;34m\u001b[0m\u001b[0m\n\u001b[0m",
            "\u001b[0;31mTypeError\u001b[0m: 'tuple' object does not support item assignment"
          ]
        }
      ]
    },
    {
      "cell_type": "markdown",
      "metadata": {
        "id": "XNc7HtNthxju",
        "colab_type": "text"
      },
      "source": [
        "### 튜플의 인덱싱과 슬라이싱"
      ]
    },
    {
      "cell_type": "code",
      "metadata": {
        "id": "FQms1hOihcR1",
        "colab_type": "code",
        "colab": {
          "base_uri": "https://localhost:8080/",
          "height": 53
        },
        "outputId": "a4123713-c704-459e-d1b6-6edbbc6572ae"
      },
      "source": [
        "#\n",
        "#\n",
        "print(\"튜플: 사용방법\")\n",
        "#\n",
        "# 인덱싱하기\n",
        "#\n",
        "t1 = (1, 2, \"a\", \"b\")\n",
        "t1[0], t1[3]\n",
        "# t1[3]\n",
        "#\n",
        "# 슬라이싱하기\n",
        "#\n",
        "t1 = (1, 2, \"a\", \"b\")\n",
        "t1[1:]\n",
        "t1[2:-1]  #@@주의 'a' or ('a',)\n",
        "t1[2:]"
      ],
      "execution_count": 3,
      "outputs": [
        {
          "output_type": "stream",
          "text": [
            "튜플: 사용방법\n"
          ],
          "name": "stdout"
        },
        {
          "output_type": "execute_result",
          "data": {
            "text/plain": [
              "('a', 'b')"
            ]
          },
          "metadata": {
            "tags": []
          },
          "execution_count": 3
        }
      ]
    },
    {
      "cell_type": "code",
      "metadata": {
        "id": "4wHj2aSnh1-z",
        "colab_type": "code",
        "colab": {
          "base_uri": "https://localhost:8080/",
          "height": 53
        },
        "outputId": "cc9fa759-4676-4a2a-b891-52d69f0a4a3d"
      },
      "source": [
        "#\n",
        "# 튜플 더하기\n",
        "#\n",
        "t1 = (1, 2, \"a\", \"b\")\n",
        "t2 = (3, 4)\n",
        "t1 + t2\n",
        "#\n",
        "# 튜플 곱하기\n",
        "#\n",
        "t2 = (3, 4)\n",
        "print(id(t2)) #id() 변수의 메모리값이 지정되어 있는 주소\n",
        "t2 * 3\n",
        "id(t2) # @@t2에 3을 곱하더라도 원래정의된 값의 주소는 불변하다.\n",
        "t2 = t2 * 3 # @ t2의 재정의 --> 위의 t2와 다른 변수값을 가짐, 주소값또한 다름.\n",
        "id(t2)\n",
        "#\n",
        "# 튜플 길이 구하기\n",
        "#\n",
        "t1 = (1, 2, \"a\", \"b\")\n",
        "len(t1)"
      ],
      "execution_count": 9,
      "outputs": [
        {
          "output_type": "stream",
          "text": [
            "139748699351368\n"
          ],
          "name": "stdout"
        },
        {
          "output_type": "execute_result",
          "data": {
            "text/plain": [
              "4"
            ]
          },
          "metadata": {
            "tags": []
          },
          "execution_count": 9
        }
      ]
    },
    {
      "cell_type": "code",
      "metadata": {
        "id": "T_5ABZAwZn2y",
        "colab_type": "code",
        "colab": {
          "base_uri": "https://localhost:8080/",
          "height": 53
        },
        "outputId": "f9578f62-66b2-46b8-f9ec-0e44c7265732"
      },
      "source": [
        "a=1 #1줄의 a와 3줄의 a는 다른 메모리영역에 할당됨.\n",
        "print(id(a))\n",
        "a=a+1\n",
        "print(id(a))"
      ],
      "execution_count": 10,
      "outputs": [
        {
          "output_type": "stream",
          "text": [
            "10914496\n",
            "10914528\n"
          ],
          "name": "stdout"
        }
      ]
    }
  ]
}