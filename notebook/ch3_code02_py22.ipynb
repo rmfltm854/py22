{
  "nbformat": 4,
  "nbformat_minor": 0,
  "metadata": {
    "colab": {
      "name": "ch3_code02_py22.ipynb",
      "provenance": [],
      "collapsed_sections": [],
      "toc_visible": true,
      "include_colab_link": true
    },
    "kernelspec": {
      "display_name": "Python 3",
      "language": "python",
      "name": "python3"
    },
    "language_info": {
      "codemirror_mode": {
        "name": "ipython",
        "version": 3
      },
      "file_extension": ".py",
      "mimetype": "text/x-python",
      "name": "python",
      "nbconvert_exporter": "python",
      "pygments_lexer": "ipython3",
      "version": "3.7.5"
    }
  },
  "cells": [
    {
      "cell_type": "markdown",
      "metadata": {
        "id": "view-in-github",
        "colab_type": "text"
      },
      "source": [
        "<a href=\"https://colab.research.google.com/github/rmfltm854/py22/blob/master/notebook/ch3_code02_py22.ipynb\" target=\"_parent\"><img src=\"https://colab.research.google.com/assets/colab-badge.svg\" alt=\"Open In Colab\"/></a>"
      ]
    },
    {
      "cell_type": "markdown",
      "metadata": {
        "colab_type": "text",
        "id": "H4jNE-BMAK3f"
      },
      "source": [
        "# ch3_code02.ipynb\n",
        "## py22 \n",
        "---\n",
        "- 반복문: for\n",
        "    - for ~ in ***:\n",
        "    - range()\n",
        "---\n",
        "\n",
        "- **리스트 내포(List comprehension)**\n",
        "\n",
        "***\n",
        "- **for 문과 iterator**\n",
        "    - for ~ range()\n",
        "    - for ~ enumerate()\n",
        "    - for ~ zip()\n",
        "    "
      ]
    },
    {
      "cell_type": "code",
      "metadata": {
        "id": "R-73g3-Cqz9C",
        "colab_type": "code",
        "colab": {
          "base_uri": "https://localhost:8080/",
          "height": 70
        },
        "outputId": "2893d9ef-86b1-4343-d5c9-0c879406f59d"
      },
      "source": [
        "# ch3_03_for.py\n",
        "#\n",
        "print(\"for 문은 어떻게 사용?\")\n",
        "# 반복해서 문장을 수행해야 할 경우 for문을 사용한다. \n",
        "\n",
        "############################\n",
        "print(\"for문의 기본 구조\")\n",
        "'''\n",
        "for 변수 in 리스트(또는 튜플, 문자열):\n",
        "    수행할 문장1\n",
        "    수행할 문장2\n",
        "    ...\n",
        "'''"
      ],
      "execution_count": 1,
      "outputs": [
        {
          "output_type": "stream",
          "text": [
            "for 문은 어떻게 사용?\n",
            "for문의 기본 구조\n"
          ],
          "name": "stdout"
        },
        {
          "output_type": "execute_result",
          "data": {
            "text/plain": [
              "'\\nfor 변수 in 리스트(또는 튜플, 문자열):\\n    수행할 문장1\\n    수행할 문장2\\n    ...\\n'"
            ]
          },
          "metadata": {
            "tags": []
          },
          "execution_count": 1
        }
      ]
    },
    {
      "cell_type": "code",
      "metadata": {
        "id": "uDHdh51vLaQW",
        "colab_type": "code",
        "colab": {
          "base_uri": "https://localhost:8080/",
          "height": 87
        },
        "outputId": "5a97528c-b8a9-4898-f51b-0100bc61a1f0"
      },
      "source": [
        "#\n",
        "############################\n",
        "print(\"예제를 통해 for문 이해하기\")\n",
        "############################\n",
        "#\n",
        "# 1. 전형적인 for문\n",
        "#\n",
        "test_list = ['one', 'two', 'three'] \n",
        "for i in test_list:\n",
        "    print(i)"
      ],
      "execution_count": 2,
      "outputs": [
        {
          "output_type": "stream",
          "text": [
            "예제를 통해 for문 이해하기\n",
            "one\n",
            "two\n",
            "three\n"
          ],
          "name": "stdout"
        }
      ]
    },
    {
      "cell_type": "code",
      "metadata": {
        "id": "wNNlVKNQLhmz",
        "colab_type": "code",
        "colab": {
          "base_uri": "https://localhost:8080/",
          "height": 194
        },
        "outputId": "a8302e8d-7062-44bd-aece-b8b9a4535e7c"
      },
      "source": [
        "my_list = [10,20,30,40,50]\n",
        "for item in my_list:\n",
        "  print(item)\n",
        "  print(item*2)"
      ],
      "execution_count": 3,
      "outputs": [
        {
          "output_type": "stream",
          "text": [
            "10\n",
            "20\n",
            "20\n",
            "40\n",
            "30\n",
            "60\n",
            "40\n",
            "80\n",
            "50\n",
            "100\n"
          ],
          "name": "stdout"
        }
      ]
    },
    {
      "cell_type": "code",
      "metadata": {
        "id": "_98O8ZIELdDx",
        "colab_type": "code",
        "colab": {
          "base_uri": "https://localhost:8080/",
          "height": 70
        },
        "outputId": "0f4b4ad2-75c0-4898-804e-5ad1de2a311a"
      },
      "source": [
        "#\n",
        "# 2. 다양한 for문의 사용\n",
        "#\n",
        "a = [(1,2), (3,4), (5,6)]\n",
        "\n",
        "for (first, last) in a:\n",
        "    print(first + last)"
      ],
      "execution_count": 4,
      "outputs": [
        {
          "output_type": "stream",
          "text": [
            "3\n",
            "7\n",
            "11\n"
          ],
          "name": "stdout"
        }
      ]
    },
    {
      "cell_type": "code",
      "metadata": {
        "id": "P_E8RtTJLyI6",
        "colab_type": "code",
        "colab": {
          "base_uri": "https://localhost:8080/",
          "height": 105
        },
        "outputId": "5a4d8e64-7069-45e5-9659-b3136c249eed"
      },
      "source": [
        "#\n",
        "# 3. for문의 응용\n",
        "#\n",
        "# \"총 5명의 학생이 시험을 보았는데 시험 점수가 60점이 넘으면 \n",
        "# 합격이고 그렇지 않으면 불합격이다. \n",
        "# 합격인지 불합격인지 결과를 보여 주시오.\"\n",
        "#\n",
        "# marks1.py\n",
        "#\n",
        "marks = [90, 25, 67, 45, 80]\n",
        "\n",
        "number = 0 \n",
        "for mark in marks: \n",
        "    number = number +1 \n",
        "    if mark >= 60: \n",
        "        print(\"%d번 학생은 합격입니다.\" % number)\n",
        "    else: \n",
        "        print(\"%d번 학생은 불합격입니다.\" % number)\n",
        "    \n",
        "\n",
        "###################################\n",
        "# cmd에서 실행하시오.\n",
        "# python marks1.py\n",
        "# run marks1.py\n",
        "###################################"
      ],
      "execution_count": 5,
      "outputs": [
        {
          "output_type": "stream",
          "text": [
            "1번 학생은 합격입니다.\n",
            "2번 학생은 불합격입니다.\n",
            "3번 학생은 합격입니다.\n",
            "4번 학생은 불합격입니다.\n",
            "5번 학생은 합격입니다.\n"
          ],
          "name": "stdout"
        }
      ]
    },
    {
      "cell_type": "code",
      "metadata": {
        "id": "gVSDVhY1MBvs",
        "colab_type": "code",
        "colab": {
          "base_uri": "https://localhost:8080/",
          "height": 105
        },
        "outputId": "67364ced-0256-4cf3-89a3-b6a8cc559eda"
      },
      "source": [
        "run marks1.py"
      ],
      "execution_count": 9,
      "outputs": [
        {
          "output_type": "stream",
          "text": [
            "1번 학생은 합격입니다.\n",
            "2번 학생은 불합격입니다.\n",
            "3번 학생은 합격입니다.\n",
            "4번 학생은 불합격입니다.\n",
            "5번 학생은 합격입니다.\n"
          ],
          "name": "stdout"
        }
      ]
    },
    {
      "cell_type": "code",
      "metadata": {
        "id": "4ynnJz5cL41A",
        "colab_type": "code",
        "colab": {
          "base_uri": "https://localhost:8080/",
          "height": 87
        },
        "outputId": "0aa25ca4-1ec9-42fd-ec49-6f0efabf80b6"
      },
      "source": [
        "#\n",
        "###################################\n",
        "print(\"for문과 continue\")\n",
        "###################################\n",
        "# for문 안의 문장을 수행하는 도중에 continue문을 만나면 \n",
        "# for문의 처음으로 돌아가게 된다.\n",
        "#\n",
        "# 앞에서 for문 응용 예제를 그대로 사용해서 60점 이상인 사람에게는 \n",
        "# 축하 메시지를 보내고 나머지 사람에게는 아무 메시지도 전하지 않는 \n",
        "# 프로그램을 작성.\n",
        "#\n",
        "# marks2.py \n",
        "marks = [90, 25, 67, 45, 80]\n",
        "\n",
        "number = 0 \n",
        "for mark in marks: \n",
        "    number = number +1 \n",
        "    if mark < 60:\n",
        "        continue \n",
        "    print(\"%d번 학생 축하합니다. 합격입니다. \" % number)\n",
        "\n",
        "\n",
        "\n",
        "###################################\n",
        "# cmd에서 실행하시오.\n",
        "# python marks2.py\n",
        "###################################"
      ],
      "execution_count": 10,
      "outputs": [
        {
          "output_type": "stream",
          "text": [
            "for문과 continue\n",
            "1번 학생 축하합니다. 합격입니다. \n",
            "3번 학생 축하합니다. 합격입니다. \n",
            "5번 학생 축하합니다. 합격입니다. \n"
          ],
          "name": "stdout"
        }
      ]
    },
    {
      "cell_type": "code",
      "metadata": {
        "id": "DOT_jw4MMjd1",
        "colab_type": "code",
        "colab": {
          "base_uri": "https://localhost:8080/",
          "height": 70
        },
        "outputId": "c209dd3e-e0c2-40ae-818f-09363a0050b1"
      },
      "source": [
        "run marks2.py"
      ],
      "execution_count": 11,
      "outputs": [
        {
          "output_type": "stream",
          "text": [
            "1번 학생 축하합니다. 합격입니다. \n",
            "3번 학생 축하합니다. 합격입니다. \n",
            "5번 학생 축하합니다. 합격입니다. \n"
          ],
          "name": "stdout"
        }
      ]
    },
    {
      "cell_type": "markdown",
      "metadata": {
        "id": "4ussUrfrMvAK",
        "colab_type": "text"
      },
      "source": [
        "### range()\n",
        "\n",
        "*   range(start,end)\n",
        "*   range(start,end,step)\n",
        "*   range(end)\n",
        "\n"
      ]
    },
    {
      "cell_type": "code",
      "metadata": {
        "id": "RW0i0ni6M62b",
        "colab_type": "code",
        "colab": {
          "base_uri": "https://localhost:8080/",
          "height": 52
        },
        "outputId": "573a6f53-9bd9-4665-e82f-38dbf1d6e4ea"
      },
      "source": [
        "a1 = range(5) # range(0,5)\n",
        "print(a1)\n",
        "list(a1)"
      ],
      "execution_count": 12,
      "outputs": [
        {
          "output_type": "stream",
          "text": [
            "range(0, 5)\n"
          ],
          "name": "stdout"
        },
        {
          "output_type": "execute_result",
          "data": {
            "text/plain": [
              "[0, 1, 2, 3, 4]"
            ]
          },
          "metadata": {
            "tags": []
          },
          "execution_count": 12
        }
      ]
    },
    {
      "cell_type": "code",
      "metadata": {
        "id": "ZdBNE6EoNCP8",
        "colab_type": "code",
        "colab": {
          "base_uri": "https://localhost:8080/",
          "height": 34
        },
        "outputId": "d0c0a9ae-1c22-4dc0-cada-917b0063b011"
      },
      "source": [
        "a2 = range(0,10,2)\n",
        "list(a2) #(0부터 9까지의 숫자, step:2씩 점프함.)"
      ],
      "execution_count": 13,
      "outputs": [
        {
          "output_type": "execute_result",
          "data": {
            "text/plain": [
              "[0, 2, 4, 6, 8]"
            ]
          },
          "metadata": {
            "tags": []
          },
          "execution_count": 13
        }
      ]
    },
    {
      "cell_type": "code",
      "metadata": {
        "id": "fat9P4WsMhDm",
        "colab_type": "code",
        "colab": {
          "base_uri": "https://localhost:8080/",
          "height": 52
        },
        "outputId": "ff38eca6-b6fe-44da-f6ae-d2b0aaa7b7a0"
      },
      "source": [
        "#\n",
        "###################################\n",
        "print(\"for문과 함께 자주 사용하는 range 함수\")\n",
        "# range(number)\n",
        "# range(시작 숫자, 끝 숫자)\n",
        "###################################\n",
        "#\n",
        "a = range(10)\n",
        "a # range(0,10)\n",
        "list(a) # la = list(a)\n",
        "\n",
        "a = range(1, 11) # 1~10까지의 숫자범위\n",
        "a\n",
        "list(a) #리스트형태로 변환"
      ],
      "execution_count": 14,
      "outputs": [
        {
          "output_type": "stream",
          "text": [
            "for문과 함께 자주 사용하는 range 함수\n"
          ],
          "name": "stdout"
        },
        {
          "output_type": "execute_result",
          "data": {
            "text/plain": [
              "[1, 2, 3, 4, 5, 6, 7, 8, 9, 10]"
            ]
          },
          "metadata": {
            "tags": []
          },
          "execution_count": 14
        }
      ]
    },
    {
      "cell_type": "code",
      "metadata": {
        "id": "8o-nNAuLNXa1",
        "colab_type": "code",
        "colab": {
          "base_uri": "https://localhost:8080/",
          "height": 34
        },
        "outputId": "44e1804a-718a-4384-fa29-b2d7966fb82e"
      },
      "source": [
        "#\n",
        "# range 함수를 이용한 코드\n",
        "#\n",
        "add = 0 \n",
        "for i in range(1, 11): \n",
        "    add = add + i\n",
        "\n",
        "print(add)"
      ],
      "execution_count": 15,
      "outputs": [
        {
          "output_type": "stream",
          "text": [
            "55\n"
          ],
          "name": "stdout"
        }
      ]
    },
    {
      "cell_type": "code",
      "metadata": {
        "id": "jRhioAhGNs20",
        "colab_type": "code",
        "colab": {
          "base_uri": "https://localhost:8080/",
          "height": 34
        },
        "outputId": "0a57886b-786d-46e1-bfd6-1bd57761a6ea"
      },
      "source": [
        "a=range(10) #0~9까지의 정수가 포함\n",
        "b=[1,2,3]\n",
        "len(a), len(b) #10개 3개"
      ],
      "execution_count": 16,
      "outputs": [
        {
          "output_type": "execute_result",
          "data": {
            "text/plain": [
              "(10, 3)"
            ]
          },
          "metadata": {
            "tags": []
          },
          "execution_count": 16
        }
      ]
    },
    {
      "cell_type": "code",
      "metadata": {
        "id": "KQwVNVNbNmbq",
        "colab_type": "code",
        "colab": {
          "base_uri": "https://localhost:8080/",
          "height": 70
        },
        "outputId": "9001e207-a6f9-4a79-979b-5bc8e04795c7"
      },
      "source": [
        "#marks3.py\n",
        "marks = [90, 25, 67, 45, 80]\n",
        "for number in range(len(marks)):\n",
        "    if marks[number] < 60: \n",
        "        continue\n",
        "    print(\"%d번 학생 축하합니다. 합격입니다.\" % (number+1))\n",
        "\n",
        "\n",
        "###################################\n",
        "# cmd에서 실행하시오.\n",
        "# python marks3.py\n",
        "###################################"
      ],
      "execution_count": 17,
      "outputs": [
        {
          "output_type": "stream",
          "text": [
            "1번 학생 축하합니다. 합격입니다.\n",
            "3번 학생 축하합니다. 합격입니다.\n",
            "5번 학생 축하합니다. 합격입니다.\n"
          ],
          "name": "stdout"
        }
      ]
    },
    {
      "cell_type": "code",
      "metadata": {
        "id": "DjNIw2pdN72m",
        "colab_type": "code",
        "colab": {
          "base_uri": "https://localhost:8080/",
          "height": 70
        },
        "outputId": "bd581813-07eb-4459-bd39-eca5c107afeb"
      },
      "source": [
        "run marks3.py"
      ],
      "execution_count": 18,
      "outputs": [
        {
          "output_type": "stream",
          "text": [
            "1번 학생 축하합니다. 합격입니다.\n",
            "3번 학생 축하합니다. 합격입니다.\n",
            "5번 학생 축하합니다. 합격입니다.\n"
          ],
          "name": "stdout"
        }
      ]
    },
    {
      "cell_type": "code",
      "metadata": {
        "id": "TYQ-5hVzN58B",
        "colab_type": "code",
        "colab": {
          "base_uri": "https://localhost:8080/",
          "height": 176
        },
        "outputId": "5cd2bb9d-4cad-4afb-c600-11ed17f448b8"
      },
      "source": [
        "#\n",
        "###################################\n",
        "print(\"for와 range를 이용한 구구단\")\n",
        "# for와 range 함수를 사용하면 \n",
        "# 소스 코드 단 4줄만으로 구구단을 출력\n",
        "###################################\n",
        "#\n",
        "# 중첩 for 문\n",
        "for i in range(2,10):         # ①번 for문 (i-loop)\n",
        "     for j in range(1, 10):   # ②번 for문 (j-loop)\n",
        "         print(i*j, end=\" \")  #end = \"  \"; 줄안바꾸고 \"  \"나열\n",
        "     print('')   # 줄 바꿈\n"
      ],
      "execution_count": 19,
      "outputs": [
        {
          "output_type": "stream",
          "text": [
            "for와 range를 이용한 구구단\n",
            "2 4 6 8 10 12 14 16 18 \n",
            "3 6 9 12 15 18 21 24 27 \n",
            "4 8 12 16 20 24 28 32 36 \n",
            "5 10 15 20 25 30 35 40 45 \n",
            "6 12 18 24 30 36 42 48 54 \n",
            "7 14 21 28 35 42 49 56 63 \n",
            "8 16 24 32 40 48 56 64 72 \n",
            "9 18 27 36 45 54 63 72 81 \n"
          ],
          "name": "stdout"
        }
      ]
    },
    {
      "cell_type": "code",
      "metadata": {
        "id": "l-lGWCAtOQRm",
        "colab_type": "code",
        "colab": {
          "base_uri": "https://localhost:8080/",
          "height": 178
        },
        "outputId": "55029445-d764-4b7d-bc33-cc63a20e6e0f"
      },
      "source": [
        "# 아래와 같이 출력하도록 코들르 변경해보시오.\n",
        "#############################################################\n",
        "# 2 X 1 = 2 2 X 2 = 4 2 X 3 = 6 2 X 4 = 8 2 X 5 = 10 2 X 6 = 12 2 X 7 = 14 2 X 8 = 16 2 X 9 = 18\n",
        "# 3 X 1 = 3 3 X 2 = 6 3 X 3 = 9 3 X 4 = 12 3 X 5 = 15 3 X 6 = 18 3 X 7 = 21 3 X 8 = 24 3 X 9 = 27\n",
        "# 4 X 1 = 4 4 X 2 = 8 4 X 3 = 12 4 X 4 = 16 4 X 5 = 20 4 X 6 = 24 4 X 7 = 28 4 X 8 = 32 4 X 9 = 36\n",
        "# 5 X 1 = 5 5 X 2 = 10 5 X 3 = 15 5 X 4 = 20 5 X 5 = 25 5 X 6 = 30 5 X 7 = 35 5 X 8 = 40 5 X 9 = 45\n",
        "# 6 X 1 = 6 6 X 2 = 12 6 X 3 = 18 6 X 4 = 24 6 X 5 = 30 6 X 6 = 36 6 X 7 = 42 6 X 8 = 48 6 X 9 = 54\n",
        "# 7 X 1 = 7 7 X 2 = 14 7 X 3 = 21 7 X 4 = 28 7 X 5 = 35 7 X 6 = 42 7 X 7 = 49 7 X 8 = 56 7 X 9 = 63\n",
        "# 8 X 1 = 8 8 X 2 = 16 8 X 3 = 24 8 X 4 = 32 8 X 5 = 40 8 X 6 = 48 8 X 7 = 56 8 X 8 = 64 8 X 9 = 72\n",
        "# 9 X 1 = 9 9 X 2 = 18 9 X 3 = 27 9 X 4 = 36 9 X 5 = 45 9 X 6 = 54 9 X 7 = 63 9 X 8 = 72 9 X 9 = 81\n",
        "#############################################################\n",
        "# \n",
        "for i in range(2,10):        # ①번 for문\n",
        "     for j in range(1, 10):   # ②번 for문 i가 2일때 j는 1~10까지 변함\n",
        "         print(i, \"X\", j, \"=\", i*j, end=\"  \") \n",
        "     print('') "
      ],
      "execution_count": 20,
      "outputs": [
        {
          "output_type": "stream",
          "text": [
            "2 X 1 = 2  2 X 2 = 4  2 X 3 = 6  2 X 4 = 8  2 X 5 = 10  2 X 6 = 12  2 X 7 = 14  2 X 8 = 16  2 X 9 = 18  \n",
            "3 X 1 = 3  3 X 2 = 6  3 X 3 = 9  3 X 4 = 12  3 X 5 = 15  3 X 6 = 18  3 X 7 = 21  3 X 8 = 24  3 X 9 = 27  \n",
            "4 X 1 = 4  4 X 2 = 8  4 X 3 = 12  4 X 4 = 16  4 X 5 = 20  4 X 6 = 24  4 X 7 = 28  4 X 8 = 32  4 X 9 = 36  \n",
            "5 X 1 = 5  5 X 2 = 10  5 X 3 = 15  5 X 4 = 20  5 X 5 = 25  5 X 6 = 30  5 X 7 = 35  5 X 8 = 40  5 X 9 = 45  \n",
            "6 X 1 = 6  6 X 2 = 12  6 X 3 = 18  6 X 4 = 24  6 X 5 = 30  6 X 6 = 36  6 X 7 = 42  6 X 8 = 48  6 X 9 = 54  \n",
            "7 X 1 = 7  7 X 2 = 14  7 X 3 = 21  7 X 4 = 28  7 X 5 = 35  7 X 6 = 42  7 X 7 = 49  7 X 8 = 56  7 X 9 = 63  \n",
            "8 X 1 = 8  8 X 2 = 16  8 X 3 = 24  8 X 4 = 32  8 X 5 = 40  8 X 6 = 48  8 X 7 = 56  8 X 8 = 64  8 X 9 = 72  \n",
            "9 X 1 = 9  9 X 2 = 18  9 X 3 = 27  9 X 4 = 36  9 X 5 = 45  9 X 6 = 54  9 X 7 = 63  9 X 8 = 72  9 X 9 = 81  \n"
          ],
          "name": "stdout"
        }
      ]
    },
    {
      "cell_type": "markdown",
      "metadata": {
        "id": "AI2t7ViFOj4t",
        "colab_type": "text"
      },
      "source": [
        "### 리스트 내포"
      ]
    },
    {
      "cell_type": "code",
      "metadata": {
        "id": "_DQJx29jOcLb",
        "colab_type": "code",
        "colab": {
          "base_uri": "https://localhost:8080/",
          "height": 52
        },
        "outputId": "234a687a-2d64-4555-a25f-e8dde65c8ccd"
      },
      "source": [
        "#\n",
        "#######################################\n",
        "print(\"리스트 내포(List comprehension)\")\n",
        "#######################################\n",
        "#\n",
        "\n",
        "a = [1,2,3,4]\n",
        "result = [] #리스트 초기화\n",
        "for num in a:\n",
        "    result.append(num*3)\n",
        "\n",
        "\n",
        "print(result)"
      ],
      "execution_count": 21,
      "outputs": [
        {
          "output_type": "stream",
          "text": [
            "리스트 내포(List comprehension)\n",
            "[3, 6, 9, 12]\n"
          ],
          "name": "stdout"
        }
      ]
    },
    {
      "cell_type": "code",
      "metadata": {
        "id": "8DFt6bjjOroL",
        "colab_type": "code",
        "colab": {
          "base_uri": "https://localhost:8080/",
          "height": 34
        },
        "outputId": "3f1689b1-40da-43d9-b01c-68b43357474c"
      },
      "source": [
        "result"
      ],
      "execution_count": 22,
      "outputs": [
        {
          "output_type": "execute_result",
          "data": {
            "text/plain": [
              "[3, 6, 9, 12]"
            ]
          },
          "metadata": {
            "tags": []
          },
          "execution_count": 22
        }
      ]
    },
    {
      "cell_type": "code",
      "metadata": {
        "id": "jeL0gfQvOnVo",
        "colab_type": "code",
        "colab": {
          "base_uri": "https://localhost:8080/",
          "height": 34
        },
        "outputId": "4332a96d-0b6b-4698-c8f1-ae61c9e15a7e"
      },
      "source": [
        "# 리쓰트 내포 필수퀴즈\n",
        "a = [1,2,3,4]\n",
        "result = [num*3 for num in a]\n",
        "print(result)"
      ],
      "execution_count": 23,
      "outputs": [
        {
          "output_type": "stream",
          "text": [
            "[3, 6, 9, 12]\n"
          ],
          "name": "stdout"
        }
      ]
    },
    {
      "cell_type": "code",
      "metadata": {
        "id": "uN7hk7AwOxBT",
        "colab_type": "code",
        "colab": {
          "base_uri": "https://localhost:8080/",
          "height": 34
        },
        "outputId": "f43df977-e4c0-48ff-cc60-92658c48f810"
      },
      "source": [
        "#\n",
        "#############################################\n",
        "print(\"리스트 내포의 일반 문법\")\n",
        "#\n",
        "# [표현식 for 항목 in 반복가능객체 if 조건문]\n",
        "# -----------------------------------------\n",
        "#\n",
        "# 일반화\n",
        "# [표현식 for 항목1 in 반복가능객체1 if 조건문1\n",
        "#         for 항목2 in 반복가능객체2 if 조건문2\n",
        "#         ...\n",
        "#         for 항목n in 반복가능객체n if 조건문n]\n",
        "##############################################\n",
        "#\n",
        "# 예1. 구구단의 모든 결과를 리스트에 담는 코드\n",
        "#\n",
        "result = [x*y for x in range(2,10) for y in range(1,10)]"
      ],
      "execution_count": 24,
      "outputs": [
        {
          "output_type": "stream",
          "text": [
            "리스트 내포의 일반 문법\n"
          ],
          "name": "stdout"
        }
      ]
    },
    {
      "cell_type": "code",
      "metadata": {
        "id": "enyihsv5O8M1",
        "colab_type": "code",
        "colab": {
          "base_uri": "https://localhost:8080/",
          "height": 54
        },
        "outputId": "0eb5afde-bf25-480f-a40f-1663256b9ced"
      },
      "source": [
        "print(result)"
      ],
      "execution_count": 25,
      "outputs": [
        {
          "output_type": "stream",
          "text": [
            "[2, 4, 6, 8, 10, 12, 14, 16, 18, 3, 6, 9, 12, 15, 18, 21, 24, 27, 4, 8, 12, 16, 20, 24, 28, 32, 36, 5, 10, 15, 20, 25, 30, 35, 40, 45, 6, 12, 18, 24, 30, 36, 42, 48, 54, 7, 14, 21, 28, 35, 42, 49, 56, 63, 8, 16, 24, 32, 40, 48, 56, 64, 72, 9, 18, 27, 36, 45, 54, 63, 72, 81]\n"
          ],
          "name": "stdout"
        }
      ]
    },
    {
      "cell_type": "code",
      "metadata": {
        "id": "LyaAgxhkPAdD",
        "colab_type": "code",
        "colab": {
          "base_uri": "https://localhost:8080/",
          "height": 34
        },
        "outputId": "0024110a-917a-407a-fd30-6cd6b2847eb9"
      },
      "source": [
        "len(result)"
      ],
      "execution_count": 26,
      "outputs": [
        {
          "output_type": "execute_result",
          "data": {
            "text/plain": [
              "72"
            ]
          },
          "metadata": {
            "tags": []
          },
          "execution_count": 26
        }
      ]
    },
    {
      "cell_type": "code",
      "metadata": {
        "id": "FIdFdBBxO6Ej",
        "colab_type": "code",
        "colab": {
          "base_uri": "https://localhost:8080/",
          "height": 34
        },
        "outputId": "244edca9-7690-4dfd-dd28-83ecdb65709c"
      },
      "source": [
        "#\n",
        "# 예2. 9 이하의 정수 중 짝수는 2배로, 홀수는 그대로 리스트에 담는 코드\n",
        "#\n",
        "x = [1, 2, 3, 4, 5, 6, 7, 8, 9]  # -> [1, 4, 3, 8, 5, 12, 7, 16, 9]\n",
        "result = []\n",
        "for idx in range(len(x)):\n",
        "    if x[idx] % 2 == 0:\n",
        "        result.append(x[idx] * 2)\n",
        "    else:\n",
        "        result.append(x[idx])\n",
        "result\n",
        "#\n",
        "# 짝수만 추출하여 2배로 만든 리스트 구성\n",
        "[element * 2 for element in x if element % 2 == 0] #if element % 2==0 :짝수일때\n",
        "# 그러면 짝수는 2배로, 홀수는 그대로 리스트에 담는 코드는?\n",
        "[(element * 2 if element % 2 == 0 else element) for element in x]\n",
        "# x전체요소중에서 홀수면 그대로 짝수면 2배곱하라."
      ],
      "execution_count": 27,
      "outputs": [
        {
          "output_type": "execute_result",
          "data": {
            "text/plain": [
              "[1, 4, 3, 8, 5, 12, 7, 16, 9]"
            ]
          },
          "metadata": {
            "tags": []
          },
          "execution_count": 27
        }
      ]
    },
    {
      "cell_type": "code",
      "metadata": {
        "id": "nPOa4-PvPS7S",
        "colab_type": "code",
        "colab": {
          "base_uri": "https://localhost:8080/",
          "height": 34
        },
        "outputId": "7345ee5c-1dac-49cc-ea65-dbc353db49b0"
      },
      "source": [
        "x=[1,2,3,4] # 스피드퀴즈:리스트내포구조이해필요\n",
        "[(element * 2 if element % 2 == 0 else element) for element in x]"
      ],
      "execution_count": 28,
      "outputs": [
        {
          "output_type": "execute_result",
          "data": {
            "text/plain": [
              "[1, 4, 3, 8]"
            ]
          },
          "metadata": {
            "tags": []
          },
          "execution_count": 28
        }
      ]
    },
    {
      "cell_type": "markdown",
      "metadata": {
        "id": "4iVWBIpFPZ81",
        "colab_type": "text"
      },
      "source": [
        "### for 문과 iterator\n",
        "\n",
        "*   range()\n",
        "*   enumerate()\n",
        "*   zip()\n",
        "\n",
        "\n",
        "\n",
        "\n",
        "\n"
      ]
    },
    {
      "cell_type": "code",
      "metadata": {
        "id": "YkW8fS6Pqz9E",
        "colab_type": "code",
        "colab": {
          "base_uri": "https://localhost:8080/",
          "height": 283
        },
        "outputId": "fcbcc449-1322-4a99-b4bf-bea4fc9c89a0"
      },
      "source": [
        "# ch3_04_for_iterates.py\n",
        "#\n",
        "############################\n",
        "print(\"for 문과 itrator\")\n",
        "############################\n",
        "subjects = ['python', 'english', 'math', 'science']\n",
        "scores = [88, 77, 66, 95]\n",
        "#\n",
        "print(\"과목명 출력\")\n",
        "for subject in subjects:\n",
        "    print(subject)\n",
        "    list(subjects)\n",
        "\n",
        "\n",
        "#\n",
        "print(\"과목 점수 출력\")\n",
        "for score in scores:\n",
        "    print(score)\n",
        "for index in range(len(subjects)):\n",
        "    print(subjects[index],scores[index])"
      ],
      "execution_count": 30,
      "outputs": [
        {
          "output_type": "stream",
          "text": [
            "for 문과 itrator\n",
            "과목명 출력\n",
            "python\n",
            "english\n",
            "math\n",
            "science\n",
            "과목 점수 출력\n",
            "88\n",
            "77\n",
            "66\n",
            "95\n",
            "python 88\n",
            "english 77\n",
            "math 66\n",
            "science 95\n"
          ],
          "name": "stdout"
        }
      ]
    },
    {
      "cell_type": "markdown",
      "metadata": {
        "id": "kexg25kqQBwi",
        "colab_type": "text"
      },
      "source": [
        "### enumerate()를 이용한 출력"
      ]
    },
    {
      "cell_type": "code",
      "metadata": {
        "id": "xgBHvofLPqje",
        "colab_type": "code",
        "colab": {
          "base_uri": "https://localhost:8080/",
          "height": 105
        },
        "outputId": "e137066f-c5af-4900-be5b-188fa939e37c"
      },
      "source": [
        "#\n",
        "print(\"enumerate()를 이용한 출력\")\n",
        "for position, subject in enumerate(subjects):\n",
        "    print(position,subject)"
      ],
      "execution_count": 31,
      "outputs": [
        {
          "output_type": "stream",
          "text": [
            "enumerate()를 이용한 출력\n",
            "0 python\n",
            "1 english\n",
            "2 math\n",
            "3 science\n"
          ],
          "name": "stdout"
        }
      ]
    },
    {
      "cell_type": "code",
      "metadata": {
        "id": "9PVMTerOQHf9",
        "colab_type": "code",
        "colab": {
          "base_uri": "https://localhost:8080/",
          "height": 87
        },
        "outputId": "b27ce671-4931-4fd7-8c57-2ccf14abb865"
      },
      "source": [
        "#\n",
        "for position, subject in enumerate(subjects):\n",
        "    print(subjects[position])"
      ],
      "execution_count": 32,
      "outputs": [
        {
          "output_type": "stream",
          "text": [
            "python\n",
            "english\n",
            "math\n",
            "science\n"
          ],
          "name": "stdout"
        }
      ]
    },
    {
      "cell_type": "code",
      "metadata": {
        "id": "agPMDcBFQLsu",
        "colab_type": "code",
        "colab": {
          "base_uri": "https://localhost:8080/",
          "height": 105
        },
        "outputId": "9d6c6d9b-196e-4301-a620-729941505570"
      },
      "source": [
        "# 도전 [DIY]\n",
        "\n",
        "print(\"enumerate()를 이용하여 점수를 출력해보시오.\")\n",
        "#\n",
        "#\n",
        "for position, score in enumerate(scores):\n",
        "  print(scores[position])"
      ],
      "execution_count": 33,
      "outputs": [
        {
          "output_type": "stream",
          "text": [
            "enumerate()를 이용하여 점수를 출력해보시오.\n",
            "88\n",
            "77\n",
            "66\n",
            "95\n"
          ],
          "name": "stdout"
        }
      ]
    },
    {
      "cell_type": "code",
      "metadata": {
        "id": "ms7j_GL4QPLv",
        "colab_type": "code",
        "colab": {
          "base_uri": "https://localhost:8080/",
          "height": 105
        },
        "outputId": "45174314-a25f-4e52-b6f6-e2df808cc095"
      },
      "source": [
        "#\n",
        "############################\n",
        "print(\"for 문과 itrator의 응용: 복합 문자열 리스트\")\n",
        "############################\n",
        "subjects = ['python', 'english', 'math', 'science']\n",
        "scores = [88, 77, 66, 95]\n",
        "# Method-1\n",
        "for position in range(len(subjects)):\n",
        "    subject = subjects[position]\n",
        "    score = scores[position]\n",
        "    print(subject, score)"
      ],
      "execution_count": 34,
      "outputs": [
        {
          "output_type": "stream",
          "text": [
            "for 문과 itrator의 응용: 복합 문자열 리스트\n",
            "python 88\n",
            "english 77\n",
            "math 66\n",
            "science 95\n"
          ],
          "name": "stdout"
        }
      ]
    },
    {
      "cell_type": "code",
      "metadata": {
        "id": "m4pO1HBCQbga",
        "colab_type": "code",
        "colab": {
          "base_uri": "https://localhost:8080/",
          "height": 87
        },
        "outputId": "142ee681-e5ec-4f0f-9979-6eb59296e43a"
      },
      "source": [
        "# Method-2\n",
        "for position, subject in enumerate(subjects):\n",
        "    score = scores[position]\n",
        "    print(subject, score)"
      ],
      "execution_count": 35,
      "outputs": [
        {
          "output_type": "stream",
          "text": [
            "python 88\n",
            "english 77\n",
            "math 66\n",
            "science 95\n"
          ],
          "name": "stdout"
        }
      ]
    },
    {
      "cell_type": "markdown",
      "metadata": {
        "id": "VJIpXE0cQlrc",
        "colab_type": "text"
      },
      "source": [
        "### zip()"
      ]
    },
    {
      "cell_type": "code",
      "metadata": {
        "id": "vRcNJEBDQoWb",
        "colab_type": "code",
        "colab": {
          "base_uri": "https://localhost:8080/",
          "height": 34
        },
        "outputId": "a1f25517-855f-4819-e430-10820f86011d"
      },
      "source": [
        "zip(subjects, scores) #zip구조(객체) : 데이터가 자리잡고있는 주소가 리턴된다\n",
        "list(zip(subjects, scores))"
      ],
      "execution_count": 36,
      "outputs": [
        {
          "output_type": "execute_result",
          "data": {
            "text/plain": [
              "[('python', 88), ('english', 77), ('math', 66), ('science', 95)]"
            ]
          },
          "metadata": {
            "tags": []
          },
          "execution_count": 36
        }
      ]
    },
    {
      "cell_type": "code",
      "metadata": {
        "id": "Wuldt_fnQiir",
        "colab_type": "code",
        "colab": {
          "base_uri": "https://localhost:8080/",
          "height": 87
        },
        "outputId": "a7f63193-5bfd-4dbc-c059-04f6ed209239"
      },
      "source": [
        "# Method-3\n",
        "for subject, score in zip(subjects, scores):\n",
        "    print(subject, score)"
      ],
      "execution_count": 37,
      "outputs": [
        {
          "output_type": "stream",
          "text": [
            "python 88\n",
            "english 77\n",
            "math 66\n",
            "science 95\n"
          ],
          "name": "stdout"
        }
      ]
    },
    {
      "cell_type": "code",
      "metadata": {
        "id": "dAqdGFfmQ1fL",
        "colab_type": "code",
        "colab": {
          "base_uri": "https://localhost:8080/",
          "height": 105
        },
        "outputId": "2857e2fd-4d1b-4e76-c135-30e8c381bf61"
      },
      "source": [
        "# 응용 코드 : 평균 성적을 구하시오.\n",
        "subjects = ['python', 'english', 'math', 'science']\n",
        "scores = [88, 77, 66, 95]\n",
        "\n",
        "average = 0\n",
        "total = 0\n",
        "for subject, score in zip(subjects, scores):\n",
        "    total += score\n",
        "    print(subject, score)\n",
        "\n",
        "print(\"평균 점수 = {0}\".format(total/len(subjects)))\n",
        "\n",
        "# So Cool!\n"
      ],
      "execution_count": 38,
      "outputs": [
        {
          "output_type": "stream",
          "text": [
            "python 88\n",
            "english 77\n",
            "math 66\n",
            "science 95\n",
            "평균 점수 = 81.5\n"
          ],
          "name": "stdout"
        }
      ]
    },
    {
      "cell_type": "code",
      "metadata": {
        "id": "wjs1e7zxqz9G",
        "colab_type": "code",
        "colab": {}
      },
      "source": [
        ""
      ],
      "execution_count": 0,
      "outputs": []
    }
  ]
}