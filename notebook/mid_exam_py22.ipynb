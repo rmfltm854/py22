{
  "nbformat": 4,
  "nbformat_minor": 0,
  "metadata": {
    "colab": {
      "name": "mid_exam_py22.ipynb",
      "provenance": [],
      "collapsed_sections": [],
      "include_colab_link": true
    },
    "kernelspec": {
      "name": "python3",
      "display_name": "Python 3"
    }
  },
  "cells": [
    {
      "cell_type": "markdown",
      "metadata": {
        "id": "view-in-github",
        "colab_type": "text"
      },
      "source": [
        "<a href=\"https://colab.research.google.com/github/rmfltm854/py22/blob/master/notebook/mid_exam_py22.ipynb\" target=\"_parent\"><img src=\"https://colab.research.google.com/assets/colab-badge.svg\" alt=\"Open In Colab\"/></a>"
      ]
    },
    {
      "cell_type": "markdown",
      "metadata": {
        "id": "ovY5jkD5dpxE",
        "colab_type": "text"
      },
      "source": [
        "### **파이썬 활용 중간고사 풀이**"
      ]
    },
    {
      "cell_type": "markdown",
      "metadata": {
        "id": "0jVdDfvXyIu5",
        "colab_type": "text"
      },
      "source": [
        "## 중간고사 1부 (1번~5번)"
      ]
    },
    {
      "cell_type": "markdown",
      "metadata": {
        "id": "eKIZae3Nyk3r",
        "colab_type": "text"
      },
      "source": [
        "**문제1.다음 식의 연산 결과는?**"
      ]
    },
    {
      "cell_type": "code",
      "metadata": {
        "id": "bYDY4g79yrIy",
        "colab_type": "code",
        "outputId": "6351dcdf-d7e4-44d9-92f8-b3893f44178c",
        "colab": {
          "base_uri": "https://localhost:8080/",
          "height": 35
        }
      },
      "source": [
        "a = 5\n",
        "b = 3\n",
        "a**b\n",
        "#답 125\n",
        "# \"a**b\" 이라는 의미는 a를 b 횟수 만큼 곱한다라는 말이기때문이다. "
      ],
      "execution_count": 0,
      "outputs": [
        {
          "output_type": "execute_result",
          "data": {
            "text/plain": [
              "125"
            ]
          },
          "metadata": {
            "tags": []
          },
          "execution_count": 1
        }
      ]
    },
    {
      "cell_type": "markdown",
      "metadata": {
        "id": "7aJW_Q0ey9tZ",
        "colab_type": "text"
      },
      "source": [
        "### 문제2. 다음 문자열 a에 대하여 슬라이싱을 한 결과는?"
      ]
    },
    {
      "cell_type": "code",
      "metadata": {
        "id": "HBvV5EBCzE77",
        "colab_type": "code",
        "outputId": "dfc4a129-f536-4cfa-b676-8f4d84fc59b8",
        "colab": {
          "base_uri": "https://localhost:8080/",
          "height": 35
        }
      },
      "source": [
        "a=\"Life is too short, you need Python!\"\n",
        "a[-16:-8]\n",
        "#답: you need\n",
        "# -는 뒤에서부터 가므로 뒤에서 8~16번째 까지가 답이다.\n"
      ],
      "execution_count": 0,
      "outputs": [
        {
          "output_type": "execute_result",
          "data": {
            "text/plain": [
              "'you need'"
            ]
          },
          "metadata": {
            "tags": []
          },
          "execution_count": 2
        }
      ]
    },
    {
      "cell_type": "markdown",
      "metadata": {
        "id": "0A_ZK-fozmaz",
        "colab_type": "text"
      },
      "source": [
        "### 문제3. 다음 list a 의 인덱싱 결과는?"
      ]
    },
    {
      "cell_type": "code",
      "metadata": {
        "id": "tuLo4gabzqHi",
        "colab_type": "code",
        "outputId": "7f5c895a-02bc-4740-f29d-3a1b23156c84",
        "colab": {
          "base_uri": "https://localhost:8080/",
          "height": 35
        }
      },
      "source": [
        "a=[1, 2, (3, 4), ['a', 'b', ['My', 'Life', 'Good']]]\n",
        "a[3][-1][0]\n",
        "#답:'My'\n",
        "# lista 의 요소중 [] 으로 짤린 3가지 요소중 -1젤뒤에 요소, 그[] 안에서 제일 첫번째요소를 말하기 때문에 답은'My'이다."
      ],
      "execution_count": 0,
      "outputs": [
        {
          "output_type": "execute_result",
          "data": {
            "text/plain": [
              "'My'"
            ]
          },
          "metadata": {
            "tags": []
          },
          "execution_count": 5
        }
      ]
    },
    {
      "cell_type": "markdown",
      "metadata": {
        "id": "GnPYJOrP1HB1",
        "colab_type": "text"
      },
      "source": [
        "### **문제4. 다음 tuple t1의 슬라이싱 결과는?**"
      ]
    },
    {
      "cell_type": "code",
      "metadata": {
        "id": "KQocDhyt1Pgj",
        "colab_type": "code",
        "outputId": "e383d618-99dd-4d5e-d005-1740fa336480",
        "colab": {
          "base_uri": "https://localhost:8080/",
          "height": 35
        }
      },
      "source": [
        "t1 = (0, 1, \"s\", \"t\", \"u\")\n",
        "t1[2:-2]\n",
        "#답: 's'\n",
        "# 슬라이싱에서 양수는 앞에서 0부터 시작하고 음수는 뒤에서부터-1로 시작하기때문에 세번째자리 \"s\" 부터 뒤에서 두번째자리 't'까지 이므로\n",
        "#답은's'"
      ],
      "execution_count": 0,
      "outputs": [
        {
          "output_type": "execute_result",
          "data": {
            "text/plain": [
              "('s',)"
            ]
          },
          "metadata": {
            "tags": []
          },
          "execution_count": 6
        }
      ]
    },
    {
      "cell_type": "markdown",
      "metadata": {
        "id": "xbnDMXnm155M",
        "colab_type": "text"
      },
      "source": [
        "### 문제5. 다음 BOOL 값 출력 중 정확한 것은?"
      ]
    },
    {
      "cell_type": "code",
      "metadata": {
        "id": "TUu3k9WT1_2a",
        "colab_type": "code",
        "outputId": "ca0d1dc3-bf46-4ac4-e486-65d3e0036946",
        "colab": {
          "base_uri": "https://localhost:8080/",
          "height": 35
        }
      },
      "source": [
        "bool([0, 1, 2]), bool([0]), bool((0)), bool((0, ))\n",
        "#요소가 True 로 나오기위해서는 리스트안에 요소가 있어야한다. 첫번쨰 두번째는 []안에 요소가있고 4번쨰 는 ((0, )) 0뒤에 ,가있기때문에 요소가 있는것으로 본다.\n",
        "#세번째는 튜플 값이 0이기 때문에 False 이다."
      ],
      "execution_count": 0,
      "outputs": [
        {
          "output_type": "execute_result",
          "data": {
            "text/plain": [
              "(True, True, False, True)"
            ]
          },
          "metadata": {
            "tags": []
          },
          "execution_count": 8
        }
      ]
    },
    {
      "cell_type": "markdown",
      "metadata": {
        "id": "oBzpnwn32p0q",
        "colab_type": "text"
      },
      "source": [
        "### 문제6. 다음 조건문을 1줄 코드로 변경하시오.\n",
        "```\n",
        "# score = 80\n",
        "if score >= 60:\n",
        "  message = \"success\"\n",
        "  else:\n",
        "    message = \"failure\"\n",
        "\n",
        "```\n",
        "\n",
        "\n",
        "\n",
        "\n",
        "\n",
        "\n",
        "\n"
      ]
    },
    {
      "cell_type": "code",
      "metadata": {
        "id": "xJSJ9G7-2vli",
        "colab_type": "code",
        "outputId": "c7de4c27-bed4-4d01-e53a-818bcef0506b",
        "colab": {
          "base_uri": "https://localhost:8080/",
          "height": 35
        }
      },
      "source": [
        "score = 80\n",
        "message = \"success\" if score >=60 else \"failure\"\n",
        "print(message)\n",
        "# 80 이상이면 \"success\" 그반대면 \"failure\""
      ],
      "execution_count": 0,
      "outputs": [
        {
          "output_type": "stream",
          "text": [
            "success\n"
          ],
          "name": "stdout"
        }
      ]
    },
    {
      "cell_type": "markdown",
      "metadata": {
        "id": "JZnMfIGx4Pii",
        "colab_type": "text"
      },
      "source": [
        "### 문제7. 다음 코드의 실행결과는?"
      ]
    },
    {
      "cell_type": "code",
      "metadata": {
        "id": "uzf7jNeD4VCT",
        "colab_type": "code",
        "outputId": "27844f96-323d-46a5-85f8-9ea36f6ab0ff",
        "colab": {
          "base_uri": "https://localhost:8080/",
          "height": 35
        }
      },
      "source": [
        "games = ['A', 'B', 'c']\n",
        "\n",
        "for cnt in range(len(games)):\n",
        "  print(cnt, games[cnt], end='.')\n",
        "#답:0 A.1 B.2 c.\n",
        "# 앞에서는 자리수를 셀때0부터 시작하기때문에 0A, 1B,2C 가되고 값을출력하고 뒤에는,를 붙인다."
      ],
      "execution_count": 0,
      "outputs": [
        {
          "output_type": "stream",
          "text": [
            "0 A.1 B.2 c."
          ],
          "name": "stdout"
        }
      ]
    },
    {
      "cell_type": "markdown",
      "metadata": {
        "id": "OFUI7BbN4-ET",
        "colab_type": "text"
      },
      "source": [
        "### 문제8. 다음의 결과가 출력되지 않는것은?\n",
        "### 'I ate 10 apples, so I was sick for threee days.'"
      ]
    },
    {
      "cell_type": "code",
      "metadata": {
        "id": "wU-VC6IX5JDT",
        "colab_type": "code",
        "outputId": "1ed4a085-2826-4f78-8336-4003ff24473a",
        "colab": {
          "base_uri": "https://localhost:8080/",
          "height": 136
        }
      },
      "source": [
        "number = 10\n",
        "day = \"threee\"\n",
        "\"I ate (0) apples, so I was sick for (1) days\" format(number=10, day)\n",
        "# File \"<ipython-input-15-c11fd744e438>\", line 3\n",
        "    \"I ate (0) apples, so I was sick for (1) days\" format(number=10, day)\n",
        "                                                        ^\n",
        "SyntaxError: invalid syntax"
      ],
      "execution_count": 0,
      "outputs": [
        {
          "output_type": "error",
          "ename": "SyntaxError",
          "evalue": "ignored",
          "traceback": [
            "\u001b[0;36m  File \u001b[0;32m\"<ipython-input-15-c11fd744e438>\"\u001b[0;36m, line \u001b[0;32m3\u001b[0m\n\u001b[0;31m    \"I ate (0) apples, so I was sick for (1) days\" format(number=10, day)\u001b[0m\n\u001b[0m                                                        ^\u001b[0m\n\u001b[0;31mSyntaxError\u001b[0m\u001b[0;31m:\u001b[0m invalid syntax\n"
          ]
        }
      ]
    },
    {
      "cell_type": "markdown",
      "metadata": {
        "id": "9Q1K_60E5mrd",
        "colab_type": "text"
      },
      "source": [
        "### 문제9. 리스트 내포를 사용해 1부터 1000이하의 자연수 중 5의 배수의 합을 구하는 한줄 코드를 작성하시오."
      ]
    },
    {
      "cell_type": "code",
      "metadata": {
        "id": "fSJCtLD25tv7",
        "colab_type": "code",
        "outputId": "630bbb43-850e-4354-8279-0a1b6f9c254d",
        "colab": {
          "base_uri": "https://localhost:8080/",
          "height": 35
        }
      },
      "source": [
        "sum( [num for num in range(1,1001) if num %5==0])\n",
        "#답:100500\n",
        "# range(1,1001)은 앞에서 자릿수를 셀때는 0부터 시작하기때문에 1001까지 범위를 지정한다.\n",
        "# %5는 5의배수를 지정하는 코드이다"
      ],
      "execution_count": 0,
      "outputs": [
        {
          "output_type": "execute_result",
          "data": {
            "text/plain": [
              "100500"
            ]
          },
          "metadata": {
            "tags": []
          },
          "execution_count": 16
        }
      ]
    },
    {
      "cell_type": "markdown",
      "metadata": {
        "id": "1PKG87TN6G2U",
        "colab_type": "text"
      },
      "source": [
        "### 문제10. 4개 과목의 평균 성적을 구하시오.[a], [b]에 적합한 코드는?\n",
        "\n",
        "\n",
        "```\n",
        "# subjects = ['python', 'english', 'math', 'science']\n",
        "       scores = [88, 77, 66, 95]\n",
        "       total = 0\n",
        "\n",
        "       for subject, score in [a]_____(subjects, scores):\n",
        "           total += score\n",
        "           print(subject, score)\n",
        "\n",
        "       print(\"평균점수 = (0)\", format([b]_____) \n",
        "```\n",
        "\n"
      ]
    },
    {
      "cell_type": "code",
      "metadata": {
        "id": "FFghfslv6TfT",
        "colab_type": "code",
        "outputId": "28c23908-cb92-4af9-9260-47561062d19a",
        "colab": {
          "base_uri": "https://localhost:8080/",
          "height": 107
        }
      },
      "source": [
        "subjects = ['python', 'english', 'math', 'science']\n",
        "scores = [ 88, 77, 66, 95]\n",
        "total = 0\n",
        "for subject, score in zip(subjects,scores): \n",
        "  total += score \n",
        "  print(subject,score)\n",
        "\n",
        "print(\"평균 점수 = {0}\".format(total/len(subjects)))"
      ],
      "execution_count": 0,
      "outputs": [
        {
          "output_type": "stream",
          "text": [
            "python 88\n",
            "english 77\n",
            "math 66\n",
            "science 95\n",
            "평균 점수 = 81.5\n"
          ],
          "name": "stdout"
        }
      ]
    }
  ]
}